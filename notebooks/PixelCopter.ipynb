{
  "cells": [
    {
      "cell_type": "markdown",
      "metadata": {
        "id": "view-in-github",
        "colab_type": "text"
      },
      "source": [
        "<a href=\"https://colab.research.google.com/github/Chpppy/Colab/blob/main/notebooks/PixelCopter.ipynb\" target=\"_parent\"><img src=\"https://colab.research.google.com/assets/colab-badge.svg\" alt=\"Open In Colab\"/></a>"
      ]
    },
    {
      "cell_type": "code",
      "source": [
        "!pip install -r https://raw.githubusercontent.com/huggingface/deep-rl-class/main/notebooks/unit4/requirements-unit4.txt"
      ],
      "metadata": {
        "colab": {
          "base_uri": "https://localhost:8080/"
        },
        "id": "a0D2hbPmQpcf",
        "outputId": "7a040fc7-30c2-459c-b3ea-22487359a7ba"
      },
      "execution_count": 1,
      "outputs": [
        {
          "output_type": "stream",
          "name": "stdout",
          "text": [
            "Collecting git+https://github.com/ntasfi/PyGame-Learning-Environment.git (from -r https://raw.githubusercontent.com/huggingface/deep-rl-class/main/notebooks/unit4/requirements-unit4.txt (line 1))\n",
            "  Cloning https://github.com/ntasfi/PyGame-Learning-Environment.git to /tmp/pip-req-build-y_y9gvia\n",
            "  Running command git clone --filter=blob:none --quiet https://github.com/ntasfi/PyGame-Learning-Environment.git /tmp/pip-req-build-y_y9gvia\n",
            "  Resolved https://github.com/ntasfi/PyGame-Learning-Environment.git to commit 3dbe79dc0c35559bb441b9359948aabf9bb3d331\n",
            "  Preparing metadata (setup.py) ... \u001b[?25l\u001b[?25hdone\n",
            "Collecting git+https://github.com/simoninithomas/gym-games (from -r https://raw.githubusercontent.com/huggingface/deep-rl-class/main/notebooks/unit4/requirements-unit4.txt (line 2))\n",
            "  Cloning https://github.com/simoninithomas/gym-games to /tmp/pip-req-build-qk2ulxiu\n",
            "  Running command git clone --filter=blob:none --quiet https://github.com/simoninithomas/gym-games /tmp/pip-req-build-qk2ulxiu\n",
            "  Resolved https://github.com/simoninithomas/gym-games to commit f31695e4ba028400628dc054ee8a436f28193f0b\n",
            "  Preparing metadata (setup.py) ... \u001b[?25l\u001b[?25hdone\n",
            "Requirement already satisfied: huggingface_hub in /usr/local/lib/python3.11/dist-packages (from -r https://raw.githubusercontent.com/huggingface/deep-rl-class/main/notebooks/unit4/requirements-unit4.txt (line 3)) (0.28.1)\n",
            "Requirement already satisfied: imageio-ffmpeg in /usr/local/lib/python3.11/dist-packages (from -r https://raw.githubusercontent.com/huggingface/deep-rl-class/main/notebooks/unit4/requirements-unit4.txt (line 4)) (0.6.0)\n",
            "Collecting pyyaml==6.0 (from -r https://raw.githubusercontent.com/huggingface/deep-rl-class/main/notebooks/unit4/requirements-unit4.txt (line 5))\n",
            "  Downloading PyYAML-6.0-cp311-cp311-manylinux_2_17_x86_64.manylinux2014_x86_64.whl.metadata (2.1 kB)\n",
            "Requirement already satisfied: numpy in /usr/local/lib/python3.11/dist-packages (from ple==0.0.1->-r https://raw.githubusercontent.com/huggingface/deep-rl-class/main/notebooks/unit4/requirements-unit4.txt (line 1)) (1.26.4)\n",
            "Requirement already satisfied: Pillow in /usr/local/lib/python3.11/dist-packages (from ple==0.0.1->-r https://raw.githubusercontent.com/huggingface/deep-rl-class/main/notebooks/unit4/requirements-unit4.txt (line 1)) (11.1.0)\n",
            "Requirement already satisfied: gym>=0.13.0 in /usr/local/lib/python3.11/dist-packages (from gym-games==1.0.4->-r https://raw.githubusercontent.com/huggingface/deep-rl-class/main/notebooks/unit4/requirements-unit4.txt (line 2)) (0.25.2)\n",
            "Requirement already satisfied: setuptools>=65.5.1 in /usr/local/lib/python3.11/dist-packages (from gym-games==1.0.4->-r https://raw.githubusercontent.com/huggingface/deep-rl-class/main/notebooks/unit4/requirements-unit4.txt (line 2)) (75.1.0)\n",
            "Requirement already satisfied: pygame>=1.9.6 in /usr/local/lib/python3.11/dist-packages (from gym-games==1.0.4->-r https://raw.githubusercontent.com/huggingface/deep-rl-class/main/notebooks/unit4/requirements-unit4.txt (line 2)) (2.6.1)\n",
            "Requirement already satisfied: filelock in /usr/local/lib/python3.11/dist-packages (from huggingface_hub->-r https://raw.githubusercontent.com/huggingface/deep-rl-class/main/notebooks/unit4/requirements-unit4.txt (line 3)) (3.17.0)\n",
            "Requirement already satisfied: fsspec>=2023.5.0 in /usr/local/lib/python3.11/dist-packages (from huggingface_hub->-r https://raw.githubusercontent.com/huggingface/deep-rl-class/main/notebooks/unit4/requirements-unit4.txt (line 3)) (2024.10.0)\n",
            "Requirement already satisfied: packaging>=20.9 in /usr/local/lib/python3.11/dist-packages (from huggingface_hub->-r https://raw.githubusercontent.com/huggingface/deep-rl-class/main/notebooks/unit4/requirements-unit4.txt (line 3)) (24.2)\n",
            "Requirement already satisfied: requests in /usr/local/lib/python3.11/dist-packages (from huggingface_hub->-r https://raw.githubusercontent.com/huggingface/deep-rl-class/main/notebooks/unit4/requirements-unit4.txt (line 3)) (2.32.3)\n",
            "Requirement already satisfied: tqdm>=4.42.1 in /usr/local/lib/python3.11/dist-packages (from huggingface_hub->-r https://raw.githubusercontent.com/huggingface/deep-rl-class/main/notebooks/unit4/requirements-unit4.txt (line 3)) (4.67.1)\n",
            "Requirement already satisfied: typing-extensions>=3.7.4.3 in /usr/local/lib/python3.11/dist-packages (from huggingface_hub->-r https://raw.githubusercontent.com/huggingface/deep-rl-class/main/notebooks/unit4/requirements-unit4.txt (line 3)) (4.12.2)\n",
            "Requirement already satisfied: cloudpickle>=1.2.0 in /usr/local/lib/python3.11/dist-packages (from gym>=0.13.0->gym-games==1.0.4->-r https://raw.githubusercontent.com/huggingface/deep-rl-class/main/notebooks/unit4/requirements-unit4.txt (line 2)) (3.1.1)\n",
            "Requirement already satisfied: gym_notices>=0.0.4 in /usr/local/lib/python3.11/dist-packages (from gym>=0.13.0->gym-games==1.0.4->-r https://raw.githubusercontent.com/huggingface/deep-rl-class/main/notebooks/unit4/requirements-unit4.txt (line 2)) (0.0.8)\n",
            "Requirement already satisfied: charset-normalizer<4,>=2 in /usr/local/lib/python3.11/dist-packages (from requests->huggingface_hub->-r https://raw.githubusercontent.com/huggingface/deep-rl-class/main/notebooks/unit4/requirements-unit4.txt (line 3)) (3.4.1)\n",
            "Requirement already satisfied: idna<4,>=2.5 in /usr/local/lib/python3.11/dist-packages (from requests->huggingface_hub->-r https://raw.githubusercontent.com/huggingface/deep-rl-class/main/notebooks/unit4/requirements-unit4.txt (line 3)) (3.10)\n",
            "Requirement already satisfied: urllib3<3,>=1.21.1 in /usr/local/lib/python3.11/dist-packages (from requests->huggingface_hub->-r https://raw.githubusercontent.com/huggingface/deep-rl-class/main/notebooks/unit4/requirements-unit4.txt (line 3)) (2.3.0)\n",
            "Requirement already satisfied: certifi>=2017.4.17 in /usr/local/lib/python3.11/dist-packages (from requests->huggingface_hub->-r https://raw.githubusercontent.com/huggingface/deep-rl-class/main/notebooks/unit4/requirements-unit4.txt (line 3)) (2025.1.31)\n",
            "Downloading PyYAML-6.0-cp311-cp311-manylinux_2_17_x86_64.manylinux2014_x86_64.whl (757 kB)\n",
            "\u001b[2K   \u001b[90m━━━━━━━━━━━━━━━━━━━━━━━━━━━━━━━━━━━━━━━━\u001b[0m \u001b[32m757.9/757.9 kB\u001b[0m \u001b[31m14.2 MB/s\u001b[0m eta \u001b[36m0:00:00\u001b[0m\n",
            "\u001b[?25hBuilding wheels for collected packages: ple, gym-games\n",
            "  Building wheel for ple (setup.py) ... \u001b[?25l\u001b[?25hdone\n",
            "  Created wheel for ple: filename=ple-0.0.1-py3-none-any.whl size=50772 sha256=30f74723154219e10e7a590f5ff41729ffa93e8d02c8c9a3b2d90aa1aeb665fd\n",
            "  Stored in directory: /tmp/pip-ephem-wheel-cache-0b9ggl8x/wheels/e7/a7/7e/0538c73f8e49e7e39dde95e8692cb773a15f890df080ccfd2a\n",
            "  Building wheel for gym-games (setup.py) ... \u001b[?25l\u001b[?25hdone\n",
            "  Created wheel for gym-games: filename=gym_games-1.0.4-py3-none-any.whl size=17306 sha256=c61bdb33f16d519e567f791d4eb4c57478fef88fd580b4a351fa17369b03a456\n",
            "  Stored in directory: /tmp/pip-ephem-wheel-cache-0b9ggl8x/wheels/70/5a/67/8ebc85faee911fb02016336e791ce324e31f7e5e82b5ea251e\n",
            "Successfully built ple gym-games\n",
            "Installing collected packages: pyyaml, ple, gym-games\n",
            "  Attempting uninstall: pyyaml\n",
            "    Found existing installation: PyYAML 6.0.2\n",
            "    Uninstalling PyYAML-6.0.2:\n",
            "      Successfully uninstalled PyYAML-6.0.2\n",
            "Successfully installed gym-games-1.0.4 ple-0.0.1 pyyaml-6.0\n"
          ]
        }
      ]
    },
    {
      "cell_type": "code",
      "execution_count": 2,
      "metadata": {
        "id": "uXqTmNTiQoxV"
      },
      "outputs": [],
      "source": [
        "import torch\n",
        "import torch.nn as nn\n",
        "import torch.nn.functional as F\n",
        "from torch.distributions import Categorical\n",
        "\n",
        "import gym\n",
        "import gym_pygame\n",
        "\n",
        "import numpy as np\n",
        "from collections import deque"
      ]
    },
    {
      "cell_type": "code",
      "execution_count": 3,
      "metadata": {
        "colab": {
          "base_uri": "https://localhost:8080/"
        },
        "id": "HVsYNpeBQoxX",
        "outputId": "ebf3a041-dc23-4428-a19b-91b8c5ffda9f"
      },
      "outputs": [
        {
          "output_type": "stream",
          "name": "stdout",
          "text": [
            "couldn't import doomish\n",
            "Couldn't import doom\n",
            "cpu\n"
          ]
        },
        {
          "output_type": "stream",
          "name": "stderr",
          "text": [
            "/usr/local/lib/python3.11/dist-packages/pygame/pkgdata.py:25: DeprecationWarning: pkg_resources is deprecated as an API. See https://setuptools.pypa.io/en/latest/pkg_resources.html\n",
            "  from pkg_resources import resource_stream, resource_exists\n",
            "/usr/local/lib/python3.11/dist-packages/pkg_resources/__init__.py:3154: DeprecationWarning: Deprecated call to `pkg_resources.declare_namespace('google')`.\n",
            "Implementing implicit namespace packages (as specified in PEP 420) is preferred to `pkg_resources.declare_namespace`. See https://setuptools.pypa.io/en/latest/references/keywords.html#keyword-namespace-packages\n",
            "  declare_namespace(pkg)\n",
            "/usr/local/lib/python3.11/dist-packages/pkg_resources/__init__.py:3154: DeprecationWarning: Deprecated call to `pkg_resources.declare_namespace('google.cloud')`.\n",
            "Implementing implicit namespace packages (as specified in PEP 420) is preferred to `pkg_resources.declare_namespace`. See https://setuptools.pypa.io/en/latest/references/keywords.html#keyword-namespace-packages\n",
            "  declare_namespace(pkg)\n",
            "/usr/local/lib/python3.11/dist-packages/pkg_resources/__init__.py:3154: DeprecationWarning: Deprecated call to `pkg_resources.declare_namespace('sphinxcontrib')`.\n",
            "Implementing implicit namespace packages (as specified in PEP 420) is preferred to `pkg_resources.declare_namespace`. See https://setuptools.pypa.io/en/latest/references/keywords.html#keyword-namespace-packages\n",
            "  declare_namespace(pkg)\n",
            "/usr/local/lib/python3.11/dist-packages/gym/core.py:317: DeprecationWarning: \u001b[33mWARN: Initializing wrapper in old step API which returns one bool instead of two. It is recommended to set `new_step_api=True` to use new step API. This will be the default behaviour in future.\u001b[0m\n",
            "  deprecation(\n",
            "/usr/local/lib/python3.11/dist-packages/gym/wrappers/step_api_compatibility.py:39: DeprecationWarning: \u001b[33mWARN: Initializing environment in old step API which returns one bool instead of two. It is recommended to set `new_step_api=True` to use new step API. This will be the default behaviour in future.\u001b[0m\n",
            "  deprecation(\n"
          ]
        }
      ],
      "source": [
        "env_id = \"Pixelcopter-PLE-v0\"\n",
        "env = gym.make(env_id)\n",
        "state_size = env.observation_space.shape[0]\n",
        "action_size = env.action_space.n\n",
        "\n",
        "device = torch.device(\"cuda:0\" if torch.cuda.is_available() else \"cpu\")\n",
        "print(device)"
      ]
    },
    {
      "cell_type": "code",
      "execution_count": 4,
      "metadata": {
        "colab": {
          "base_uri": "https://localhost:8080/"
        },
        "id": "wIjHcxYeQoxX",
        "outputId": "f5b94cc4-22b9-47c0-8a27-6258efeb3287"
      },
      "outputs": [
        {
          "output_type": "stream",
          "name": "stdout",
          "text": [
            "_____OBSERVATION SPACE_____ \n",
            "\n",
            "The State Space is:  7\n",
            "Sample observation [-0.7222649   0.64465195  0.8664863  -0.459179   -0.15970209 -1.2868191\n",
            " -1.0290534 ]\n",
            "\n",
            " _____ACTION SPACE_____ \n",
            "\n",
            "The Action Space is:  2\n",
            "Action Space Sample 0\n"
          ]
        }
      ],
      "source": [
        "print(\"_____OBSERVATION SPACE_____ \\n\")\n",
        "print(\"The State Space is: \", state_size)\n",
        "print(\"Sample observation\", env.observation_space.sample()) # Get a random observation\n",
        "\n",
        "print(\"\\n _____ACTION SPACE_____ \\n\")\n",
        "print(\"The Action Space is: \", action_size)\n",
        "print(\"Action Space Sample\", env.action_space.sample()) # Take a random action"
      ]
    },
    {
      "cell_type": "code",
      "execution_count": 5,
      "metadata": {
        "id": "WAgKQM5gQoxY"
      },
      "outputs": [],
      "source": [
        "class Policy(nn.Module):\n",
        "    def __init__(self, state_size, hidden_size, action_size):\n",
        "        super().__init__()\n",
        "        self.fc1 = nn.Linear(state_size, hidden_size)\n",
        "        self.fc2 = nn.Linear(hidden_size, hidden_size * 2)\n",
        "        self.fc3 = nn.Linear(hidden_size * 2, action_size)\n",
        "\n",
        "    def forward(self, x):\n",
        "        x = F.relu(self.fc1(x))\n",
        "        x = F.relu(self.fc2(x))\n",
        "        x = self.fc3(x)\n",
        "        return F.softmax(x, dim=1)\n",
        "\n",
        "    def act(self, state):\n",
        "        tensor_state = torch.from_numpy(state).float().unsqueeze(0).to(device)\n",
        "        probs = self.forward(tensor_state).cpu()\n",
        "        m = Categorical(probs)\n",
        "        action = m.sample()\n",
        "        return action.item(), m.log_prob(action)"
      ]
    },
    {
      "cell_type": "code",
      "execution_count": 11,
      "metadata": {
        "id": "b7PgSNwFQoxY"
      },
      "outputs": [],
      "source": [
        "param = {\n",
        "    \"state_size\" : state_size,\n",
        "    \"hidden_size\" : 64,\n",
        "    \"action_size\" : action_size,\n",
        "    \"total_training_episode\" : 50_000,\n",
        "    \"max_step\" : 1000,\n",
        "    \"lr\" : 1e-4,\n",
        "    \"gamma\" : 0.99\n",
        "}"
      ]
    },
    {
      "cell_type": "code",
      "execution_count": 12,
      "metadata": {
        "id": "ui2QFqr_QoxZ"
      },
      "outputs": [],
      "source": [
        "PixelPolicy = Policy(param[\"state_size\"], param[\"hidden_size\"], param[\"action_size\"]).to(device)\n",
        "optimizer = torch.optim.Adam(PixelPolicy.parameters(), param[\"lr\"])\n",
        "scheduler = torch.optim.lr_scheduler.LinearLR(optimizer, start_factor=1, end_factor=1e-1, total_iters=param[\"total_training_episode\"] // 500)"
      ]
    },
    {
      "cell_type": "code",
      "execution_count": 13,
      "metadata": {
        "id": "82cOpDMxQoxZ"
      },
      "outputs": [],
      "source": [
        "def reinforce(env, optimizer, max_step, total_training_episode, gamma, print_time):\n",
        "    scores = deque(maxlen=100)\n",
        "    score = []\n",
        "    for episode in range(1, total_training_episode + 1):\n",
        "        rewards = []\n",
        "        log_probs = []\n",
        "        state = env.reset()\n",
        "        for i in range(max_step):\n",
        "            action, log_prob = PixelPolicy.act(state)\n",
        "            log_probs.append(log_prob)\n",
        "            state, reward, done, _ = env.step(action)\n",
        "            rewards.append(reward)\n",
        "            if done:\n",
        "                break\n",
        "\n",
        "        scores.append(sum(rewards))\n",
        "        score.append(sum(rewards))\n",
        "        cumulative_reward = deque(maxlen=max_step + 1)\n",
        "        cumulative_reward.append(0)\n",
        "\n",
        "        for i in range(len(rewards))[::-1]:\n",
        "            cumulative_reward.appendleft(rewards[i] + gamma * cumulative_reward[0])\n",
        "            if(i != 0):\n",
        "              log_probs[i-1] = log_probs[i] + log_probs[i - 1]\n",
        "\n",
        "        cumulative_reward = torch.tensor(cumulative_reward)\n",
        "        eps = np.finfo(np.float32).eps.item()\n",
        "\n",
        "        # cumulative_reward = (cumulative_reward - cumulative_reward.mean()) / (cumulative_reward.std() + eps)\n",
        "\n",
        "        policy_loss = []\n",
        "        for log_prob, disc_return in zip(log_probs, cumulative_reward):\n",
        "            policy_loss.append(-log_prob * disc_return)\n",
        "        policy_loss = torch.cat(policy_loss).sum() / len(log_probs)\n",
        "\n",
        "        optimizer.zero_grad()\n",
        "        policy_loss.backward()\n",
        "        optimizer.step()\n",
        "        if episode % 500 == 0:\n",
        "            scheduler.step()\n",
        "\n",
        "        if episode % print_time == 0:\n",
        "            print('Episode {}\\tAverage Score: {:.2f}'.format(episode, np.mean(scores)))\n",
        "\n",
        "    return score"
      ]
    },
    {
      "cell_type": "code",
      "execution_count": 14,
      "metadata": {
        "colab": {
          "base_uri": "https://localhost:8080/",
          "height": 1000
        },
        "id": "K2AHlf9MQoxZ",
        "outputId": "49328576-aaab-4c62-d792-96836939f25c"
      },
      "outputs": [
        {
          "output_type": "stream",
          "name": "stdout",
          "text": [
            "Episode 200\tAverage Score: -1.86\n",
            "Episode 400\tAverage Score: 1.84\n",
            "Episode 600\tAverage Score: 1.02\n",
            "Episode 800\tAverage Score: 2.52\n",
            "Episode 1000\tAverage Score: 1.72\n",
            "Episode 1200\tAverage Score: 2.02\n",
            "Episode 1400\tAverage Score: 3.84\n",
            "Episode 1600\tAverage Score: 1.45\n",
            "Episode 1800\tAverage Score: 4.64\n",
            "Episode 2000\tAverage Score: 5.13\n",
            "Episode 2200\tAverage Score: 4.34\n",
            "Episode 2400\tAverage Score: 4.55\n",
            "Episode 2600\tAverage Score: 4.90\n",
            "Episode 2800\tAverage Score: 5.27\n",
            "Episode 3000\tAverage Score: 3.28\n",
            "Episode 3200\tAverage Score: 4.41\n",
            "Episode 3400\tAverage Score: 4.93\n",
            "Episode 3600\tAverage Score: 4.86\n",
            "Episode 3800\tAverage Score: 5.55\n",
            "Episode 4000\tAverage Score: 4.13\n",
            "Episode 4200\tAverage Score: 4.85\n",
            "Episode 4400\tAverage Score: 5.39\n",
            "Episode 4600\tAverage Score: 5.50\n",
            "Episode 4800\tAverage Score: 6.47\n",
            "Episode 5000\tAverage Score: 8.80\n",
            "Episode 5200\tAverage Score: 5.40\n",
            "Episode 5400\tAverage Score: 6.78\n",
            "Episode 5600\tAverage Score: 5.16\n",
            "Episode 5800\tAverage Score: 7.52\n",
            "Episode 6000\tAverage Score: 6.40\n",
            "Episode 6200\tAverage Score: 7.16\n",
            "Episode 6400\tAverage Score: 2.74\n",
            "Episode 6600\tAverage Score: 8.61\n",
            "Episode 6800\tAverage Score: 6.11\n",
            "Episode 7000\tAverage Score: 7.67\n",
            "Episode 7200\tAverage Score: 7.96\n",
            "Episode 7400\tAverage Score: 4.07\n",
            "Episode 7600\tAverage Score: 7.51\n",
            "Episode 7800\tAverage Score: 6.92\n",
            "Episode 8000\tAverage Score: 7.42\n",
            "Episode 8200\tAverage Score: 7.12\n",
            "Episode 8400\tAverage Score: 7.11\n",
            "Episode 8600\tAverage Score: 9.80\n",
            "Episode 8800\tAverage Score: 6.86\n",
            "Episode 9000\tAverage Score: 7.75\n",
            "Episode 9200\tAverage Score: 4.11\n",
            "Episode 9400\tAverage Score: 6.40\n",
            "Episode 9600\tAverage Score: 7.91\n",
            "Episode 9800\tAverage Score: 7.29\n",
            "Episode 10000\tAverage Score: 8.32\n",
            "Episode 10200\tAverage Score: 7.36\n",
            "Episode 10400\tAverage Score: 7.71\n",
            "Episode 10600\tAverage Score: 7.56\n",
            "Episode 10800\tAverage Score: 8.67\n",
            "Episode 11000\tAverage Score: 5.42\n",
            "Episode 11200\tAverage Score: 9.36\n",
            "Episode 11400\tAverage Score: 7.82\n",
            "Episode 11600\tAverage Score: 10.36\n",
            "Episode 11800\tAverage Score: 10.53\n",
            "Episode 12000\tAverage Score: 10.43\n",
            "Episode 12200\tAverage Score: 9.59\n",
            "Episode 12400\tAverage Score: 8.65\n",
            "Episode 12600\tAverage Score: 7.96\n",
            "Episode 12800\tAverage Score: 9.51\n",
            "Episode 13000\tAverage Score: 7.47\n",
            "Episode 13200\tAverage Score: 7.80\n",
            "Episode 13400\tAverage Score: 9.46\n",
            "Episode 13600\tAverage Score: 10.41\n",
            "Episode 13800\tAverage Score: 9.08\n",
            "Episode 14000\tAverage Score: 9.25\n",
            "Episode 14200\tAverage Score: 8.24\n",
            "Episode 14400\tAverage Score: 9.99\n",
            "Episode 14600\tAverage Score: 9.55\n",
            "Episode 14800\tAverage Score: 9.43\n",
            "Episode 15000\tAverage Score: 12.85\n",
            "Episode 15200\tAverage Score: 9.94\n",
            "Episode 15400\tAverage Score: 8.88\n",
            "Episode 15600\tAverage Score: 9.60\n",
            "Episode 15800\tAverage Score: 9.63\n",
            "Episode 16000\tAverage Score: 9.65\n",
            "Episode 16200\tAverage Score: 9.97\n",
            "Episode 16400\tAverage Score: 11.51\n",
            "Episode 16600\tAverage Score: 11.24\n",
            "Episode 16800\tAverage Score: 11.41\n",
            "Episode 17000\tAverage Score: 11.41\n",
            "Episode 17200\tAverage Score: 9.09\n",
            "Episode 17400\tAverage Score: 10.51\n",
            "Episode 17600\tAverage Score: 10.65\n",
            "Episode 17800\tAverage Score: 10.04\n",
            "Episode 18000\tAverage Score: 6.07\n",
            "Episode 18200\tAverage Score: 6.79\n",
            "Episode 18400\tAverage Score: 10.18\n",
            "Episode 18600\tAverage Score: 12.52\n",
            "Episode 18800\tAverage Score: 12.22\n",
            "Episode 19000\tAverage Score: 12.26\n",
            "Episode 19200\tAverage Score: 11.45\n",
            "Episode 19400\tAverage Score: 11.70\n",
            "Episode 19600\tAverage Score: 5.78\n",
            "Episode 19800\tAverage Score: 10.82\n",
            "Episode 20000\tAverage Score: 9.75\n",
            "Episode 20200\tAverage Score: 8.24\n",
            "Episode 20400\tAverage Score: 9.75\n",
            "Episode 20600\tAverage Score: 10.54\n",
            "Episode 20800\tAverage Score: 10.87\n",
            "Episode 21000\tAverage Score: 13.11\n",
            "Episode 21200\tAverage Score: 12.78\n",
            "Episode 21400\tAverage Score: 10.31\n",
            "Episode 21600\tAverage Score: 10.12\n",
            "Episode 21800\tAverage Score: 8.89\n",
            "Episode 22000\tAverage Score: 10.98\n",
            "Episode 22200\tAverage Score: 11.98\n",
            "Episode 22400\tAverage Score: 10.98\n",
            "Episode 22600\tAverage Score: 13.74\n",
            "Episode 22800\tAverage Score: 7.02\n",
            "Episode 23000\tAverage Score: 12.24\n",
            "Episode 23200\tAverage Score: 11.50\n",
            "Episode 23400\tAverage Score: 13.44\n",
            "Episode 23600\tAverage Score: 12.13\n",
            "Episode 23800\tAverage Score: 11.08\n",
            "Episode 24000\tAverage Score: 10.98\n",
            "Episode 24200\tAverage Score: 10.53\n",
            "Episode 24400\tAverage Score: 9.99\n",
            "Episode 24600\tAverage Score: 5.80\n",
            "Episode 24800\tAverage Score: 6.71\n",
            "Episode 25000\tAverage Score: 8.23\n",
            "Episode 25200\tAverage Score: 11.78\n",
            "Episode 25400\tAverage Score: 10.72\n",
            "Episode 25600\tAverage Score: 13.77\n",
            "Episode 25800\tAverage Score: 10.37\n",
            "Episode 26000\tAverage Score: 10.85\n",
            "Episode 26200\tAverage Score: 12.01\n",
            "Episode 26400\tAverage Score: 7.35\n",
            "Episode 26600\tAverage Score: 10.81\n",
            "Episode 26800\tAverage Score: 11.59\n",
            "Episode 27000\tAverage Score: 11.52\n",
            "Episode 27200\tAverage Score: 8.73\n",
            "Episode 27400\tAverage Score: 11.15\n",
            "Episode 27600\tAverage Score: 11.80\n",
            "Episode 27800\tAverage Score: 11.81\n",
            "Episode 28000\tAverage Score: 14.03\n",
            "Episode 28200\tAverage Score: 11.82\n",
            "Episode 28400\tAverage Score: 10.79\n",
            "Episode 28600\tAverage Score: 12.36\n",
            "Episode 28800\tAverage Score: 12.14\n",
            "Episode 29000\tAverage Score: 11.17\n",
            "Episode 29200\tAverage Score: 11.22\n",
            "Episode 29400\tAverage Score: 8.17\n",
            "Episode 29600\tAverage Score: 10.61\n",
            "Episode 29800\tAverage Score: 9.24\n",
            "Episode 30000\tAverage Score: 9.84\n",
            "Episode 30200\tAverage Score: 11.58\n",
            "Episode 30400\tAverage Score: 9.41\n",
            "Episode 30600\tAverage Score: 4.44\n",
            "Episode 30800\tAverage Score: 8.13\n",
            "Episode 31000\tAverage Score: 6.17\n",
            "Episode 31200\tAverage Score: 7.61\n",
            "Episode 31400\tAverage Score: 12.31\n",
            "Episode 31600\tAverage Score: 11.38\n",
            "Episode 31800\tAverage Score: 9.21\n",
            "Episode 32000\tAverage Score: 12.22\n",
            "Episode 32200\tAverage Score: 11.54\n",
            "Episode 32400\tAverage Score: 14.97\n",
            "Episode 32600\tAverage Score: 11.88\n",
            "Episode 32800\tAverage Score: 14.27\n",
            "Episode 33000\tAverage Score: 12.77\n",
            "Episode 33200\tAverage Score: 11.17\n",
            "Episode 33400\tAverage Score: 12.24\n",
            "Episode 33600\tAverage Score: 12.78\n",
            "Episode 33800\tAverage Score: 13.41\n",
            "Episode 34000\tAverage Score: 8.32\n",
            "Episode 34200\tAverage Score: 5.77\n",
            "Episode 34400\tAverage Score: 10.98\n",
            "Episode 34600\tAverage Score: 12.86\n",
            "Episode 34800\tAverage Score: 13.01\n",
            "Episode 35000\tAverage Score: 13.54\n",
            "Episode 35200\tAverage Score: 14.60\n",
            "Episode 35400\tAverage Score: 12.95\n",
            "Episode 35600\tAverage Score: 12.01\n",
            "Episode 35800\tAverage Score: 11.59\n",
            "Episode 36000\tAverage Score: 13.42\n",
            "Episode 36200\tAverage Score: 13.21\n",
            "Episode 36400\tAverage Score: 14.33\n",
            "Episode 36600\tAverage Score: 10.97\n",
            "Episode 36800\tAverage Score: 12.69\n",
            "Episode 37000\tAverage Score: 12.95\n",
            "Episode 37200\tAverage Score: 14.02\n",
            "Episode 37400\tAverage Score: 13.63\n",
            "Episode 37600\tAverage Score: 12.58\n",
            "Episode 37800\tAverage Score: 14.06\n",
            "Episode 38000\tAverage Score: 11.68\n",
            "Episode 38200\tAverage Score: 14.76\n",
            "Episode 38400\tAverage Score: 13.59\n",
            "Episode 38600\tAverage Score: 12.50\n",
            "Episode 38800\tAverage Score: 11.59\n",
            "Episode 39000\tAverage Score: 15.26\n",
            "Episode 39200\tAverage Score: 14.96\n",
            "Episode 39400\tAverage Score: 10.38\n",
            "Episode 39600\tAverage Score: 13.03\n",
            "Episode 39800\tAverage Score: 12.05\n",
            "Episode 40000\tAverage Score: 13.73\n",
            "Episode 40200\tAverage Score: 15.51\n",
            "Episode 40400\tAverage Score: 12.71\n",
            "Episode 40600\tAverage Score: 10.05\n",
            "Episode 40800\tAverage Score: 11.52\n",
            "Episode 41000\tAverage Score: 14.01\n"
          ]
        },
        {
          "output_type": "error",
          "ename": "KeyboardInterrupt",
          "evalue": "",
          "traceback": [
            "\u001b[0;31m---------------------------------------------------------------------------\u001b[0m",
            "\u001b[0;31mKeyboardInterrupt\u001b[0m                         Traceback (most recent call last)",
            "\u001b[0;32m<ipython-input-14-cf84dffb8745>\u001b[0m in \u001b[0;36m<cell line: 0>\u001b[0;34m()\u001b[0m\n\u001b[0;32m----> 1\u001b[0;31m \u001b[0mscore\u001b[0m \u001b[0;34m=\u001b[0m \u001b[0mreinforce\u001b[0m\u001b[0;34m(\u001b[0m\u001b[0menv\u001b[0m\u001b[0;34m,\u001b[0m \u001b[0moptimizer\u001b[0m\u001b[0;34m,\u001b[0m \u001b[0mparam\u001b[0m\u001b[0;34m[\u001b[0m\u001b[0;34m\"max_step\"\u001b[0m\u001b[0;34m]\u001b[0m\u001b[0;34m,\u001b[0m \u001b[0mparam\u001b[0m\u001b[0;34m[\u001b[0m\u001b[0;34m\"total_training_episode\"\u001b[0m\u001b[0;34m]\u001b[0m\u001b[0;34m,\u001b[0m \u001b[0mparam\u001b[0m\u001b[0;34m[\u001b[0m\u001b[0;34m\"gamma\"\u001b[0m\u001b[0;34m]\u001b[0m\u001b[0;34m,\u001b[0m \u001b[0;36m200\u001b[0m\u001b[0;34m)\u001b[0m\u001b[0;34m\u001b[0m\u001b[0;34m\u001b[0m\u001b[0m\n\u001b[0m",
            "\u001b[0;32m<ipython-input-13-50562ec9f453>\u001b[0m in \u001b[0;36mreinforce\u001b[0;34m(env, optimizer, max_step, total_training_episode, gamma, print_time)\u001b[0m\n\u001b[1;32m     35\u001b[0m \u001b[0;34m\u001b[0m\u001b[0m\n\u001b[1;32m     36\u001b[0m         \u001b[0moptimizer\u001b[0m\u001b[0;34m.\u001b[0m\u001b[0mzero_grad\u001b[0m\u001b[0;34m(\u001b[0m\u001b[0;34m)\u001b[0m\u001b[0;34m\u001b[0m\u001b[0;34m\u001b[0m\u001b[0m\n\u001b[0;32m---> 37\u001b[0;31m         \u001b[0mpolicy_loss\u001b[0m\u001b[0;34m.\u001b[0m\u001b[0mbackward\u001b[0m\u001b[0;34m(\u001b[0m\u001b[0;34m)\u001b[0m\u001b[0;34m\u001b[0m\u001b[0;34m\u001b[0m\u001b[0m\n\u001b[0m\u001b[1;32m     38\u001b[0m         \u001b[0moptimizer\u001b[0m\u001b[0;34m.\u001b[0m\u001b[0mstep\u001b[0m\u001b[0;34m(\u001b[0m\u001b[0;34m)\u001b[0m\u001b[0;34m\u001b[0m\u001b[0;34m\u001b[0m\u001b[0m\n\u001b[1;32m     39\u001b[0m         \u001b[0;32mif\u001b[0m \u001b[0mepisode\u001b[0m \u001b[0;34m%\u001b[0m \u001b[0;36m500\u001b[0m \u001b[0;34m==\u001b[0m \u001b[0;36m0\u001b[0m\u001b[0;34m:\u001b[0m\u001b[0;34m\u001b[0m\u001b[0;34m\u001b[0m\u001b[0m\n",
            "\u001b[0;32m/usr/local/lib/python3.11/dist-packages/torch/_tensor.py\u001b[0m in \u001b[0;36mbackward\u001b[0;34m(self, gradient, retain_graph, create_graph, inputs)\u001b[0m\n\u001b[1;32m    579\u001b[0m                 \u001b[0minputs\u001b[0m\u001b[0;34m=\u001b[0m\u001b[0minputs\u001b[0m\u001b[0;34m,\u001b[0m\u001b[0;34m\u001b[0m\u001b[0;34m\u001b[0m\u001b[0m\n\u001b[1;32m    580\u001b[0m             )\n\u001b[0;32m--> 581\u001b[0;31m         torch.autograd.backward(\n\u001b[0m\u001b[1;32m    582\u001b[0m             \u001b[0mself\u001b[0m\u001b[0;34m,\u001b[0m \u001b[0mgradient\u001b[0m\u001b[0;34m,\u001b[0m \u001b[0mretain_graph\u001b[0m\u001b[0;34m,\u001b[0m \u001b[0mcreate_graph\u001b[0m\u001b[0;34m,\u001b[0m \u001b[0minputs\u001b[0m\u001b[0;34m=\u001b[0m\u001b[0minputs\u001b[0m\u001b[0;34m\u001b[0m\u001b[0;34m\u001b[0m\u001b[0m\n\u001b[1;32m    583\u001b[0m         )\n",
            "\u001b[0;32m/usr/local/lib/python3.11/dist-packages/torch/autograd/__init__.py\u001b[0m in \u001b[0;36mbackward\u001b[0;34m(tensors, grad_tensors, retain_graph, create_graph, grad_variables, inputs)\u001b[0m\n\u001b[1;32m    345\u001b[0m     \u001b[0;31m# some Python versions print out the first line of a multi-line function\u001b[0m\u001b[0;34m\u001b[0m\u001b[0;34m\u001b[0m\u001b[0m\n\u001b[1;32m    346\u001b[0m     \u001b[0;31m# calls in the traceback and some print out the last line\u001b[0m\u001b[0;34m\u001b[0m\u001b[0;34m\u001b[0m\u001b[0m\n\u001b[0;32m--> 347\u001b[0;31m     _engine_run_backward(\n\u001b[0m\u001b[1;32m    348\u001b[0m         \u001b[0mtensors\u001b[0m\u001b[0;34m,\u001b[0m\u001b[0;34m\u001b[0m\u001b[0;34m\u001b[0m\u001b[0m\n\u001b[1;32m    349\u001b[0m         \u001b[0mgrad_tensors_\u001b[0m\u001b[0;34m,\u001b[0m\u001b[0;34m\u001b[0m\u001b[0;34m\u001b[0m\u001b[0m\n",
            "\u001b[0;32m/usr/local/lib/python3.11/dist-packages/torch/autograd/graph.py\u001b[0m in \u001b[0;36m_engine_run_backward\u001b[0;34m(t_outputs, *args, **kwargs)\u001b[0m\n\u001b[1;32m    823\u001b[0m         \u001b[0munregister_hooks\u001b[0m \u001b[0;34m=\u001b[0m \u001b[0m_register_logging_hooks_on_whole_graph\u001b[0m\u001b[0;34m(\u001b[0m\u001b[0mt_outputs\u001b[0m\u001b[0;34m)\u001b[0m\u001b[0;34m\u001b[0m\u001b[0;34m\u001b[0m\u001b[0m\n\u001b[1;32m    824\u001b[0m     \u001b[0;32mtry\u001b[0m\u001b[0;34m:\u001b[0m\u001b[0;34m\u001b[0m\u001b[0;34m\u001b[0m\u001b[0m\n\u001b[0;32m--> 825\u001b[0;31m         return Variable._execution_engine.run_backward(  # Calls into the C++ engine to run the backward pass\n\u001b[0m\u001b[1;32m    826\u001b[0m             \u001b[0mt_outputs\u001b[0m\u001b[0;34m,\u001b[0m \u001b[0;34m*\u001b[0m\u001b[0margs\u001b[0m\u001b[0;34m,\u001b[0m \u001b[0;34m**\u001b[0m\u001b[0mkwargs\u001b[0m\u001b[0;34m\u001b[0m\u001b[0;34m\u001b[0m\u001b[0m\n\u001b[1;32m    827\u001b[0m         )  # Calls into the C++ engine to run the backward pass\n",
            "\u001b[0;31mKeyboardInterrupt\u001b[0m: "
          ]
        }
      ],
      "source": [
        "score = reinforce(env, optimizer, param[\"max_step\"], param[\"total_training_episode\"], param[\"gamma\"], 200)"
      ]
    },
    {
      "cell_type": "code",
      "source": [
        "torch.save(PixelPolicy.state_dict(), \"Pixelcopter-PLE.pth\")"
      ],
      "metadata": {
        "id": "fCOiutJZUrsh"
      },
      "execution_count": null,
      "outputs": []
    }
  ],
  "metadata": {
    "kernelspec": {
      "display_name": "Python 3",
      "name": "python3"
    },
    "language_info": {
      "codemirror_mode": {
        "name": "ipython",
        "version": 3
      },
      "file_extension": ".py",
      "mimetype": "text/x-python",
      "name": "python",
      "nbconvert_exporter": "python",
      "pygments_lexer": "ipython3",
      "version": "3.10.0"
    },
    "colab": {
      "provenance": [],
      "gpuType": "T4",
      "include_colab_link": true
    },
    "accelerator": "GPU"
  },
  "nbformat": 4,
  "nbformat_minor": 0
}