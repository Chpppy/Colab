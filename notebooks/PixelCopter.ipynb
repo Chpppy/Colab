{
  "cells": [
    {
      "cell_type": "markdown",
      "metadata": {
        "id": "view-in-github",
        "colab_type": "text"
      },
      "source": [
        "<a href=\"https://colab.research.google.com/github/Chpppy/Colab/blob/main/notebooks/PixelCopter.ipynb\" target=\"_parent\"><img src=\"https://colab.research.google.com/assets/colab-badge.svg\" alt=\"Open In Colab\"/></a>"
      ]
    },
    {
      "cell_type": "code",
      "source": [
        "!pip install -r https://raw.githubusercontent.com/huggingface/deep-rl-class/main/notebooks/unit4/requirements-unit4.txt"
      ],
      "metadata": {
        "colab": {
          "base_uri": "https://localhost:8080/"
        },
        "id": "a0D2hbPmQpcf",
        "outputId": "d4d05663-d06a-46c7-e339-188edaa1a830"
      },
      "execution_count": 1,
      "outputs": [
        {
          "output_type": "stream",
          "name": "stdout",
          "text": [
            "Collecting git+https://github.com/ntasfi/PyGame-Learning-Environment.git (from -r https://raw.githubusercontent.com/huggingface/deep-rl-class/main/notebooks/unit4/requirements-unit4.txt (line 1))\n",
            "  Cloning https://github.com/ntasfi/PyGame-Learning-Environment.git to /tmp/pip-req-build-k0cwbrnu\n",
            "  Running command git clone --filter=blob:none --quiet https://github.com/ntasfi/PyGame-Learning-Environment.git /tmp/pip-req-build-k0cwbrnu\n",
            "  Resolved https://github.com/ntasfi/PyGame-Learning-Environment.git to commit 3dbe79dc0c35559bb441b9359948aabf9bb3d331\n",
            "  Preparing metadata (setup.py) ... \u001b[?25l\u001b[?25hdone\n",
            "Collecting git+https://github.com/simoninithomas/gym-games (from -r https://raw.githubusercontent.com/huggingface/deep-rl-class/main/notebooks/unit4/requirements-unit4.txt (line 2))\n",
            "  Cloning https://github.com/simoninithomas/gym-games to /tmp/pip-req-build-nxecbclc\n",
            "  Running command git clone --filter=blob:none --quiet https://github.com/simoninithomas/gym-games /tmp/pip-req-build-nxecbclc\n",
            "  Resolved https://github.com/simoninithomas/gym-games to commit f31695e4ba028400628dc054ee8a436f28193f0b\n",
            "  Preparing metadata (setup.py) ... \u001b[?25l\u001b[?25hdone\n",
            "Requirement already satisfied: huggingface_hub in /usr/local/lib/python3.11/dist-packages (from -r https://raw.githubusercontent.com/huggingface/deep-rl-class/main/notebooks/unit4/requirements-unit4.txt (line 3)) (0.28.1)\n",
            "Requirement already satisfied: imageio-ffmpeg in /usr/local/lib/python3.11/dist-packages (from -r https://raw.githubusercontent.com/huggingface/deep-rl-class/main/notebooks/unit4/requirements-unit4.txt (line 4)) (0.6.0)\n",
            "Collecting pyyaml==6.0 (from -r https://raw.githubusercontent.com/huggingface/deep-rl-class/main/notebooks/unit4/requirements-unit4.txt (line 5))\n",
            "  Downloading PyYAML-6.0-cp311-cp311-manylinux_2_17_x86_64.manylinux2014_x86_64.whl.metadata (2.1 kB)\n",
            "Requirement already satisfied: numpy in /usr/local/lib/python3.11/dist-packages (from ple==0.0.1->-r https://raw.githubusercontent.com/huggingface/deep-rl-class/main/notebooks/unit4/requirements-unit4.txt (line 1)) (1.26.4)\n",
            "Requirement already satisfied: Pillow in /usr/local/lib/python3.11/dist-packages (from ple==0.0.1->-r https://raw.githubusercontent.com/huggingface/deep-rl-class/main/notebooks/unit4/requirements-unit4.txt (line 1)) (11.1.0)\n",
            "Requirement already satisfied: gym>=0.13.0 in /usr/local/lib/python3.11/dist-packages (from gym-games==1.0.4->-r https://raw.githubusercontent.com/huggingface/deep-rl-class/main/notebooks/unit4/requirements-unit4.txt (line 2)) (0.25.2)\n",
            "Requirement already satisfied: setuptools>=65.5.1 in /usr/local/lib/python3.11/dist-packages (from gym-games==1.0.4->-r https://raw.githubusercontent.com/huggingface/deep-rl-class/main/notebooks/unit4/requirements-unit4.txt (line 2)) (75.1.0)\n",
            "Requirement already satisfied: pygame>=1.9.6 in /usr/local/lib/python3.11/dist-packages (from gym-games==1.0.4->-r https://raw.githubusercontent.com/huggingface/deep-rl-class/main/notebooks/unit4/requirements-unit4.txt (line 2)) (2.6.1)\n",
            "Requirement already satisfied: filelock in /usr/local/lib/python3.11/dist-packages (from huggingface_hub->-r https://raw.githubusercontent.com/huggingface/deep-rl-class/main/notebooks/unit4/requirements-unit4.txt (line 3)) (3.17.0)\n",
            "Requirement already satisfied: fsspec>=2023.5.0 in /usr/local/lib/python3.11/dist-packages (from huggingface_hub->-r https://raw.githubusercontent.com/huggingface/deep-rl-class/main/notebooks/unit4/requirements-unit4.txt (line 3)) (2024.10.0)\n",
            "Requirement already satisfied: packaging>=20.9 in /usr/local/lib/python3.11/dist-packages (from huggingface_hub->-r https://raw.githubusercontent.com/huggingface/deep-rl-class/main/notebooks/unit4/requirements-unit4.txt (line 3)) (24.2)\n",
            "Requirement already satisfied: requests in /usr/local/lib/python3.11/dist-packages (from huggingface_hub->-r https://raw.githubusercontent.com/huggingface/deep-rl-class/main/notebooks/unit4/requirements-unit4.txt (line 3)) (2.32.3)\n",
            "Requirement already satisfied: tqdm>=4.42.1 in /usr/local/lib/python3.11/dist-packages (from huggingface_hub->-r https://raw.githubusercontent.com/huggingface/deep-rl-class/main/notebooks/unit4/requirements-unit4.txt (line 3)) (4.67.1)\n",
            "Requirement already satisfied: typing-extensions>=3.7.4.3 in /usr/local/lib/python3.11/dist-packages (from huggingface_hub->-r https://raw.githubusercontent.com/huggingface/deep-rl-class/main/notebooks/unit4/requirements-unit4.txt (line 3)) (4.12.2)\n",
            "Requirement already satisfied: cloudpickle>=1.2.0 in /usr/local/lib/python3.11/dist-packages (from gym>=0.13.0->gym-games==1.0.4->-r https://raw.githubusercontent.com/huggingface/deep-rl-class/main/notebooks/unit4/requirements-unit4.txt (line 2)) (3.1.1)\n",
            "Requirement already satisfied: gym_notices>=0.0.4 in /usr/local/lib/python3.11/dist-packages (from gym>=0.13.0->gym-games==1.0.4->-r https://raw.githubusercontent.com/huggingface/deep-rl-class/main/notebooks/unit4/requirements-unit4.txt (line 2)) (0.0.8)\n",
            "Requirement already satisfied: charset-normalizer<4,>=2 in /usr/local/lib/python3.11/dist-packages (from requests->huggingface_hub->-r https://raw.githubusercontent.com/huggingface/deep-rl-class/main/notebooks/unit4/requirements-unit4.txt (line 3)) (3.4.1)\n",
            "Requirement already satisfied: idna<4,>=2.5 in /usr/local/lib/python3.11/dist-packages (from requests->huggingface_hub->-r https://raw.githubusercontent.com/huggingface/deep-rl-class/main/notebooks/unit4/requirements-unit4.txt (line 3)) (3.10)\n",
            "Requirement already satisfied: urllib3<3,>=1.21.1 in /usr/local/lib/python3.11/dist-packages (from requests->huggingface_hub->-r https://raw.githubusercontent.com/huggingface/deep-rl-class/main/notebooks/unit4/requirements-unit4.txt (line 3)) (2.3.0)\n",
            "Requirement already satisfied: certifi>=2017.4.17 in /usr/local/lib/python3.11/dist-packages (from requests->huggingface_hub->-r https://raw.githubusercontent.com/huggingface/deep-rl-class/main/notebooks/unit4/requirements-unit4.txt (line 3)) (2025.1.31)\n",
            "Downloading PyYAML-6.0-cp311-cp311-manylinux_2_17_x86_64.manylinux2014_x86_64.whl (757 kB)\n",
            "\u001b[2K   \u001b[90m━━━━━━━━━━━━━━━━━━━━━━━━━━━━━━━━━━━━━━━━\u001b[0m \u001b[32m757.9/757.9 kB\u001b[0m \u001b[31m8.7 MB/s\u001b[0m eta \u001b[36m0:00:00\u001b[0m\n",
            "\u001b[?25hBuilding wheels for collected packages: ple, gym-games\n",
            "  Building wheel for ple (setup.py) ... \u001b[?25l\u001b[?25hdone\n",
            "  Created wheel for ple: filename=ple-0.0.1-py3-none-any.whl size=50772 sha256=20faf4608c62a6a8f1f325393c6df2476bc2a3c1b36cb257d3e2c1ddf3815b6d\n",
            "  Stored in directory: /tmp/pip-ephem-wheel-cache-jzt2sjjg/wheels/e7/a7/7e/0538c73f8e49e7e39dde95e8692cb773a15f890df080ccfd2a\n",
            "  Building wheel for gym-games (setup.py) ... \u001b[?25l\u001b[?25hdone\n",
            "  Created wheel for gym-games: filename=gym_games-1.0.4-py3-none-any.whl size=17306 sha256=3b9842debb2cd661fdfbf761702eeaa8380708351f0b9aacc9bc7de8ce829c03\n",
            "  Stored in directory: /tmp/pip-ephem-wheel-cache-jzt2sjjg/wheels/70/5a/67/8ebc85faee911fb02016336e791ce324e31f7e5e82b5ea251e\n",
            "Successfully built ple gym-games\n",
            "Installing collected packages: pyyaml, ple, gym-games\n",
            "  Attempting uninstall: pyyaml\n",
            "    Found existing installation: PyYAML 6.0.2\n",
            "    Uninstalling PyYAML-6.0.2:\n",
            "      Successfully uninstalled PyYAML-6.0.2\n",
            "Successfully installed gym-games-1.0.4 ple-0.0.1 pyyaml-6.0\n"
          ]
        }
      ]
    },
    {
      "cell_type": "code",
      "execution_count": 2,
      "metadata": {
        "id": "uXqTmNTiQoxV"
      },
      "outputs": [],
      "source": [
        "import torch\n",
        "import torch.nn as nn\n",
        "import torch.nn.functional as F\n",
        "from torch.distributions import Categorical\n",
        "\n",
        "import gym\n",
        "import gym_pygame\n",
        "\n",
        "import numpy as np\n",
        "from collections import deque"
      ]
    },
    {
      "cell_type": "code",
      "execution_count": 3,
      "metadata": {
        "colab": {
          "base_uri": "https://localhost:8080/"
        },
        "id": "HVsYNpeBQoxX",
        "outputId": "e1b2c119-4020-4a2c-97ee-286ec3cd9144"
      },
      "outputs": [
        {
          "output_type": "stream",
          "name": "stdout",
          "text": [
            "couldn't import doomish\n",
            "Couldn't import doom\n",
            "cpu\n"
          ]
        },
        {
          "output_type": "stream",
          "name": "stderr",
          "text": [
            "/usr/local/lib/python3.11/dist-packages/pygame/pkgdata.py:25: DeprecationWarning: pkg_resources is deprecated as an API. See https://setuptools.pypa.io/en/latest/pkg_resources.html\n",
            "  from pkg_resources import resource_stream, resource_exists\n",
            "/usr/local/lib/python3.11/dist-packages/pkg_resources/__init__.py:3154: DeprecationWarning: Deprecated call to `pkg_resources.declare_namespace('google')`.\n",
            "Implementing implicit namespace packages (as specified in PEP 420) is preferred to `pkg_resources.declare_namespace`. See https://setuptools.pypa.io/en/latest/references/keywords.html#keyword-namespace-packages\n",
            "  declare_namespace(pkg)\n",
            "/usr/local/lib/python3.11/dist-packages/pkg_resources/__init__.py:3154: DeprecationWarning: Deprecated call to `pkg_resources.declare_namespace('google.cloud')`.\n",
            "Implementing implicit namespace packages (as specified in PEP 420) is preferred to `pkg_resources.declare_namespace`. See https://setuptools.pypa.io/en/latest/references/keywords.html#keyword-namespace-packages\n",
            "  declare_namespace(pkg)\n",
            "/usr/local/lib/python3.11/dist-packages/pkg_resources/__init__.py:3154: DeprecationWarning: Deprecated call to `pkg_resources.declare_namespace('sphinxcontrib')`.\n",
            "Implementing implicit namespace packages (as specified in PEP 420) is preferred to `pkg_resources.declare_namespace`. See https://setuptools.pypa.io/en/latest/references/keywords.html#keyword-namespace-packages\n",
            "  declare_namespace(pkg)\n",
            "/usr/local/lib/python3.11/dist-packages/gym/core.py:317: DeprecationWarning: \u001b[33mWARN: Initializing wrapper in old step API which returns one bool instead of two. It is recommended to set `new_step_api=True` to use new step API. This will be the default behaviour in future.\u001b[0m\n",
            "  deprecation(\n",
            "/usr/local/lib/python3.11/dist-packages/gym/wrappers/step_api_compatibility.py:39: DeprecationWarning: \u001b[33mWARN: Initializing environment in old step API which returns one bool instead of two. It is recommended to set `new_step_api=True` to use new step API. This will be the default behaviour in future.\u001b[0m\n",
            "  deprecation(\n"
          ]
        }
      ],
      "source": [
        "env_id = \"Pixelcopter-PLE-v0\"\n",
        "env = gym.make(env_id)\n",
        "state_size = env.observation_space.shape[0]\n",
        "action_size = env.action_space.n\n",
        "\n",
        "device = torch.device(\"cuda:0\" if torch.cuda.is_available() else \"cpu\")\n",
        "print(device)"
      ]
    },
    {
      "cell_type": "code",
      "execution_count": 4,
      "metadata": {
        "colab": {
          "base_uri": "https://localhost:8080/"
        },
        "id": "wIjHcxYeQoxX",
        "outputId": "ccef44c5-14b7-412e-86af-ffdf2af61543"
      },
      "outputs": [
        {
          "output_type": "stream",
          "name": "stdout",
          "text": [
            "_____OBSERVATION SPACE_____ \n",
            "\n",
            "The State Space is:  7\n",
            "Sample observation [ 0.5959286   0.94595546 -1.1859205   1.6790326   0.6182842  -0.7321073\n",
            "  1.2180805 ]\n",
            "\n",
            " _____ACTION SPACE_____ \n",
            "\n",
            "The Action Space is:  2\n",
            "Action Space Sample 1\n"
          ]
        }
      ],
      "source": [
        "print(\"_____OBSERVATION SPACE_____ \\n\")\n",
        "print(\"The State Space is: \", state_size)\n",
        "print(\"Sample observation\", env.observation_space.sample()) # Get a random observation\n",
        "\n",
        "print(\"\\n _____ACTION SPACE_____ \\n\")\n",
        "print(\"The Action Space is: \", action_size)\n",
        "print(\"Action Space Sample\", env.action_space.sample()) # Take a random action"
      ]
    },
    {
      "cell_type": "code",
      "execution_count": 5,
      "metadata": {
        "id": "WAgKQM5gQoxY"
      },
      "outputs": [],
      "source": [
        "class Policy(nn.Module):\n",
        "    def __init__(self, state_size, hidden_size, action_size):\n",
        "        super().__init__()\n",
        "        self.fc1 = nn.Linear(state_size, hidden_size)\n",
        "        self.fc2 = nn.Linear(hidden_size, hidden_size * 2)\n",
        "        self.fc3 = nn.Linear(hidden_size * 2, action_size)\n",
        "\n",
        "    def forward(self, x):\n",
        "        x = F.relu(self.fc1(x))\n",
        "        x = F.relu(self.fc2(x))\n",
        "        x = self.fc3(x)\n",
        "        return F.softmax(x, dim=1)\n",
        "\n",
        "    def act(self, state):\n",
        "        tensor_state = torch.from_numpy(state).float().unsqueeze(0).to(device)\n",
        "        probs = self.forward(tensor_state).cpu()\n",
        "        m = Categorical(probs)\n",
        "        action = m.sample()\n",
        "        return action.item(), m.log_prob(action)"
      ]
    },
    {
      "cell_type": "code",
      "execution_count": 6,
      "metadata": {
        "id": "b7PgSNwFQoxY"
      },
      "outputs": [],
      "source": [
        "param = {\n",
        "    \"state_size\" : state_size,\n",
        "    \"hidden_size\" : 64,\n",
        "    \"action_size\" : action_size,\n",
        "    \"total_training_episode\" : 50_000,\n",
        "    \"max_step\" : 1000,\n",
        "    \"lr\" : 5e-5,\n",
        "    \"gamma\" : 0.99\n",
        "}"
      ]
    },
    {
      "cell_type": "code",
      "execution_count": 7,
      "metadata": {
        "id": "ui2QFqr_QoxZ"
      },
      "outputs": [],
      "source": [
        "PixelPolicy = Policy(param[\"state_size\"], param[\"hidden_size\"], param[\"action_size\"]).to(device)\n",
        "optimizer = torch.optim.Adam(PixelPolicy.parameters(), param[\"lr\"])\n",
        "scheduler = optimizer.lr_scheduler.LinearLR(optimizer, start_factor=1, end_factor=1e-1, total_iters=param[\"total_training_episode\"])"
      ]
    },
    {
      "cell_type": "code",
      "execution_count": 8,
      "metadata": {
        "id": "82cOpDMxQoxZ"
      },
      "outputs": [],
      "source": [
        "def reinforce(env, optimizer, max_step, total_training_episode, gamma, print_time):\n",
        "    scores = deque(maxlen=100)\n",
        "    score = []\n",
        "    for episode in range(1, total_training_episode + 1):\n",
        "        rewards = []\n",
        "        log_probs = []\n",
        "        state = env.reset()\n",
        "        for i in range(max_step):\n",
        "            action, log_prob = PixelPolicy.act(state)\n",
        "            log_probs.append(log_prob)\n",
        "            state, reward, done, _ = env.step(action)\n",
        "            rewards.append(reward)\n",
        "            if done:\n",
        "                break\n",
        "\n",
        "        scores.append(sum(rewards))\n",
        "        score.append(sum(rewards))\n",
        "        cumulative_reward = deque(maxlen=max_step + 1)\n",
        "        cumulative_reward.append(0)\n",
        "\n",
        "        for i in range(len(rewards))[::-1]:\n",
        "            cumulative_reward.appendleft(rewards[i] + gamma * cumulative_reward[0])\n",
        "            if(i != 0):\n",
        "              log_probs[i-1] = log_probs[i] + log_probs[i - 1]\n",
        "\n",
        "        cumulative_reward = torch.tensor(cumulative_reward)\n",
        "        eps = np.finfo(np.float32).eps.item()\n",
        "\n",
        "        # cumulative_reward = (cumulative_reward - cumulative_reward.mean()) / (cumulative_reward.std() + eps)\n",
        "\n",
        "        policy_loss = []\n",
        "        for log_prob, disc_return in zip(log_probs, cumulative_reward):\n",
        "            policy_loss.append(-log_prob * disc_return)\n",
        "        policy_loss = torch.cat(policy_loss).sum() / len(log_probs)\n",
        "\n",
        "        optimizer.zero_grad()\n",
        "        policy_loss.backward()\n",
        "        optimizer.step()\n",
        "\n",
        "        scheduler.step()\n",
        "        if episode % print_time == 0:\n",
        "            print('Episode {}\\tAverage Score: {:.2f}'.format(episode, np.mean(scores)))\n",
        "\n",
        "    return score"
      ]
    },
    {
      "cell_type": "code",
      "execution_count": null,
      "metadata": {
        "colab": {
          "base_uri": "https://localhost:8080/"
        },
        "id": "K2AHlf9MQoxZ",
        "outputId": "b8d66730-8976-4c7a-c61b-166f97f09cbe"
      },
      "outputs": [
        {
          "output_type": "stream",
          "name": "stderr",
          "text": [
            "/usr/local/lib/python3.11/dist-packages/gym/utils/passive_env_checker.py:174: UserWarning: \u001b[33mWARN: Future gym versions will require that `Env.reset` can be passed a `seed` instead of using `Env.seed` for resetting the environment random number generator.\u001b[0m\n",
            "  logger.warn(\n",
            "/usr/local/lib/python3.11/dist-packages/gym/utils/passive_env_checker.py:190: UserWarning: \u001b[33mWARN: Future gym versions will require that `Env.reset` can be passed `return_info` to return information from the environment resetting.\u001b[0m\n",
            "  logger.warn(\n",
            "/usr/local/lib/python3.11/dist-packages/gym/utils/passive_env_checker.py:195: UserWarning: \u001b[33mWARN: Future gym versions will require that `Env.reset` can be passed `options` to allow the environment initialisation to be passed additional information.\u001b[0m\n",
            "  logger.warn(\n",
            "/usr/local/lib/python3.11/dist-packages/gym/utils/passive_env_checker.py:141: UserWarning: \u001b[33mWARN: The obs returned by the `reset()` method was expecting numpy array dtype to be float32, actual type: float64\u001b[0m\n",
            "  logger.warn(\n",
            "/usr/local/lib/python3.11/dist-packages/gym/utils/passive_env_checker.py:165: UserWarning: \u001b[33mWARN: The obs returned by the `reset()` method is not within the observation space.\u001b[0m\n",
            "  logger.warn(f\"{pre} is not within the observation space.\")\n",
            "/usr/local/lib/python3.11/dist-packages/gym/utils/passive_env_checker.py:227: DeprecationWarning: \u001b[33mWARN: Core environment is written in old step API which returns one bool instead of two. It is recommended to rewrite the environment with new step API. \u001b[0m\n",
            "  logger.deprecation(\n",
            "/usr/local/lib/python3.11/dist-packages/gym/utils/passive_env_checker.py:233: DeprecationWarning: `np.bool8` is a deprecated alias for `np.bool_`.  (Deprecated NumPy 1.24)\n",
            "  if not isinstance(done, (bool, np.bool8)):\n",
            "/usr/local/lib/python3.11/dist-packages/gym/utils/passive_env_checker.py:141: UserWarning: \u001b[33mWARN: The obs returned by the `step()` method was expecting numpy array dtype to be float32, actual type: float64\u001b[0m\n",
            "  logger.warn(\n",
            "/usr/local/lib/python3.11/dist-packages/gym/utils/passive_env_checker.py:165: UserWarning: \u001b[33mWARN: The obs returned by the `step()` method is not within the observation space.\u001b[0m\n",
            "  logger.warn(f\"{pre} is not within the observation space.\")\n"
          ]
        },
        {
          "output_type": "stream",
          "name": "stdout",
          "text": [
            "Episode 200\tAverage Score: -4.31\n",
            "Episode 400\tAverage Score: 0.58\n",
            "Episode 600\tAverage Score: 1.83\n",
            "Episode 800\tAverage Score: 2.89\n",
            "Episode 1000\tAverage Score: 3.13\n",
            "Episode 1200\tAverage Score: 3.50\n",
            "Episode 1400\tAverage Score: 5.08\n",
            "Episode 1600\tAverage Score: 3.99\n",
            "Episode 1800\tAverage Score: 3.71\n",
            "Episode 2000\tAverage Score: 4.89\n",
            "Episode 2200\tAverage Score: 4.06\n",
            "Episode 2400\tAverage Score: 4.97\n",
            "Episode 2600\tAverage Score: 3.81\n",
            "Episode 2800\tAverage Score: 4.27\n",
            "Episode 3000\tAverage Score: 4.70\n",
            "Episode 3200\tAverage Score: 4.95\n",
            "Episode 3400\tAverage Score: 2.84\n",
            "Episode 3600\tAverage Score: 6.44\n",
            "Episode 3800\tAverage Score: 5.69\n",
            "Episode 4000\tAverage Score: 6.96\n",
            "Episode 4200\tAverage Score: 6.13\n",
            "Episode 4400\tAverage Score: 4.80\n",
            "Episode 4600\tAverage Score: 6.88\n",
            "Episode 4800\tAverage Score: 5.15\n",
            "Episode 5000\tAverage Score: 7.46\n",
            "Episode 5200\tAverage Score: 4.69\n",
            "Episode 5400\tAverage Score: 6.99\n",
            "Episode 5600\tAverage Score: 6.90\n",
            "Episode 5800\tAverage Score: 7.36\n",
            "Episode 6000\tAverage Score: 5.62\n",
            "Episode 6200\tAverage Score: 6.53\n",
            "Episode 6400\tAverage Score: 5.28\n",
            "Episode 6600\tAverage Score: 8.06\n",
            "Episode 6800\tAverage Score: 5.86\n",
            "Episode 7000\tAverage Score: 6.43\n",
            "Episode 7200\tAverage Score: 5.65\n",
            "Episode 7400\tAverage Score: 5.55\n",
            "Episode 7600\tAverage Score: 7.04\n",
            "Episode 7800\tAverage Score: 6.87\n",
            "Episode 8000\tAverage Score: 6.57\n",
            "Episode 8200\tAverage Score: 6.09\n",
            "Episode 8400\tAverage Score: 9.93\n",
            "Episode 8600\tAverage Score: 5.78\n",
            "Episode 8800\tAverage Score: 6.46\n",
            "Episode 9000\tAverage Score: 6.75\n",
            "Episode 9200\tAverage Score: 7.05\n",
            "Episode 9400\tAverage Score: 6.83\n",
            "Episode 9600\tAverage Score: 5.31\n",
            "Episode 9800\tAverage Score: 7.79\n",
            "Episode 10000\tAverage Score: 6.85\n",
            "Episode 10200\tAverage Score: 7.02\n",
            "Episode 10400\tAverage Score: 8.37\n",
            "Episode 10600\tAverage Score: 7.46\n",
            "Episode 10800\tAverage Score: 9.37\n",
            "Episode 11000\tAverage Score: 9.27\n",
            "Episode 11200\tAverage Score: 7.84\n",
            "Episode 11400\tAverage Score: 8.29\n",
            "Episode 11600\tAverage Score: 8.68\n",
            "Episode 11800\tAverage Score: 8.56\n",
            "Episode 12000\tAverage Score: 9.60\n",
            "Episode 12200\tAverage Score: 7.59\n",
            "Episode 12400\tAverage Score: 8.85\n",
            "Episode 12600\tAverage Score: 11.36\n",
            "Episode 12800\tAverage Score: 10.65\n",
            "Episode 13000\tAverage Score: 9.07\n",
            "Episode 13200\tAverage Score: 8.41\n",
            "Episode 13400\tAverage Score: 7.09\n",
            "Episode 13600\tAverage Score: 7.09\n",
            "Episode 13800\tAverage Score: 8.49\n",
            "Episode 14000\tAverage Score: 8.65\n",
            "Episode 14200\tAverage Score: 7.85\n",
            "Episode 14400\tAverage Score: 8.00\n",
            "Episode 14600\tAverage Score: 6.51\n",
            "Episode 14800\tAverage Score: 8.77\n",
            "Episode 15000\tAverage Score: 6.34\n"
          ]
        }
      ],
      "source": [
        "score = reinforce(env, optimizer, param[\"max_step\"], param[\"total_training_episode\"], param[\"gamma\"], 200)"
      ]
    },
    {
      "cell_type": "code",
      "source": [
        "torch.save(PixelPolicy.state_dict(), \"Pixelcopter-PLE.pth\")"
      ],
      "metadata": {
        "id": "fCOiutJZUrsh"
      },
      "execution_count": null,
      "outputs": []
    }
  ],
  "metadata": {
    "kernelspec": {
      "display_name": "Python 3",
      "name": "python3"
    },
    "language_info": {
      "codemirror_mode": {
        "name": "ipython",
        "version": 3
      },
      "file_extension": ".py",
      "mimetype": "text/x-python",
      "name": "python",
      "nbconvert_exporter": "python",
      "pygments_lexer": "ipython3",
      "version": "3.10.0"
    },
    "colab": {
      "provenance": [],
      "gpuType": "T4",
      "include_colab_link": true
    },
    "accelerator": "GPU"
  },
  "nbformat": 4,
  "nbformat_minor": 0
}